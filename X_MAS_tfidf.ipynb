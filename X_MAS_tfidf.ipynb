{
 "cells": [
  {
   "cell_type": "code",
   "execution_count": 2,
   "metadata": {
    "colab": {
     "base_uri": "https://localhost:8080/"
    },
    "id": "BOwgg3HpJwnu",
    "outputId": "69af340a-7f05-4287-c7b6-064062f4f44b"
   },
   "outputs": [
    {
     "name": "stdout",
     "output_type": "stream",
     "text": [
      "Defaulting to user installation because normal site-packages is not writeable\n",
      "Requirement already satisfied: tika in /home/ami/.local/lib/python3.10/site-packages (1.24)\n",
      "Requirement already satisfied: pymorphy2 in /home/ami/.local/lib/python3.10/site-packages (0.9.1)\n",
      "Requirement already satisfied: setuptools in /usr/lib/python3.10/site-packages (from tika) (65.6.3)\n",
      "Requirement already satisfied: requests in /usr/lib/python3.10/site-packages (from tika) (2.28.1)\n",
      "Requirement already satisfied: pymorphy2-dicts-ru<3.0,>=2.4 in /home/ami/.local/lib/python3.10/site-packages (from pymorphy2) (2.4.417127.4579844)\n",
      "Requirement already satisfied: dawg-python>=0.7.1 in /home/ami/.local/lib/python3.10/site-packages (from pymorphy2) (0.7.2)\n",
      "Requirement already satisfied: docopt>=0.6 in /usr/lib/python3.10/site-packages (from pymorphy2) (0.6.2)\n",
      "Requirement already satisfied: idna<4,>=2.5 in /usr/lib/python3.10/site-packages (from requests->tika) (3.4)\n",
      "Requirement already satisfied: urllib3<1.27,>=1.21.1 in /usr/lib/python3.10/site-packages (from requests->tika) (1.26.12)\n",
      "Requirement already satisfied: appdirs in /usr/lib/python3.10/site-packages (from setuptools->tika) (1.4.4)\n",
      "Requirement already satisfied: jaraco.text in /usr/lib/python3.10/site-packages (from setuptools->tika) (3.11.0)\n",
      "Requirement already satisfied: more-itertools in /usr/lib/python3.10/site-packages (from setuptools->tika) (9.0.0)\n",
      "Requirement already satisfied: ordered-set in /usr/lib/python3.10/site-packages (from setuptools->tika) (4.1.0)\n",
      "Requirement already satisfied: packaging in /usr/lib/python3.10/site-packages (from setuptools->tika) (21.3)\n",
      "Requirement already satisfied: pyparsing in /usr/lib/python3.10/site-packages (from setuptools->tika) (3.0.9)\n",
      "Requirement already satisfied: tomli in /usr/lib/python3.10/site-packages (from setuptools->tika) (2.0.1)\n",
      "Requirement already satisfied: validate-pyproject in /usr/lib/python3.10/site-packages (from setuptools->tika) (0.10.1)\n",
      "Requirement already satisfied: autocommand in /usr/lib/python3.10/site-packages (from jaraco.text->setuptools->tika) (2.2.2)\n",
      "Requirement already satisfied: jaraco.context>=4.1 in /usr/lib/python3.10/site-packages (from jaraco.text->setuptools->tika) (4.2.0)\n",
      "Requirement already satisfied: inflect in /usr/lib/python3.10/site-packages (from jaraco.text->setuptools->tika) (6.0.2)\n",
      "Requirement already satisfied: jaraco.functools in /usr/lib/python3.10/site-packages (from jaraco.text->setuptools->tika) (3.5.2)\n",
      "Requirement already satisfied: pydantic>=1.9.1 in /usr/lib/python3.10/site-packages (from inflect->jaraco.text->setuptools->tika) (1.10.2)\n",
      "Requirement already satisfied: typing-extensions>=4.1.0 in /usr/lib/python3.10/site-packages (from pydantic>=1.9.1->inflect->jaraco.text->setuptools->tika) (4.4.0)\n"
     ]
    }
   ],
   "source": [
    "!pip install tika pymorphy2"
   ]
  },
  {
   "cell_type": "code",
   "execution_count": null,
   "metadata": {},
   "outputs": [],
   "source": []
  },
  {
   "cell_type": "code",
   "execution_count": 1,
   "metadata": {
    "colab": {
     "base_uri": "https://localhost:8080/"
    },
    "id": "1K-R2pzaG3hO",
    "outputId": "345f74a3-2f38-4d58-bd21-f9bf4f627617"
   },
   "outputs": [
    {
     "name": "stderr",
     "output_type": "stream",
     "text": [
      "[nltk_data] Downloading package stopwords to /home/ami/nltk_data...\n",
      "[nltk_data]   Package stopwords is already up-to-date!\n",
      "[nltk_data] Downloading package wordnet to /home/ami/nltk_data...\n",
      "[nltk_data]   Package wordnet is already up-to-date!\n",
      "[nltk_data] Downloading package omw-1.4 to /home/ami/nltk_data...\n",
      "[nltk_data]   Package omw-1.4 is already up-to-date!\n",
      "[nltk_data] Downloading package punkt to /home/ami/nltk_data...\n",
      "[nltk_data]   Package punkt is already up-to-date!\n"
     ]
    }
   ],
   "source": [
    "import pandas as pd\n",
    "import numpy as np\n",
    "\n",
    "from matplotlib import pyplot as plt\n",
    "import seaborn as sns\n",
    "\n",
    "import string\n",
    "from tqdm.notebook import tqdm\n",
    "import matplotlib\n",
    "from sklearn.metrics import classification_report\n",
    "\n",
    "import nltk\n",
    "nltk.download('stopwords')\n",
    "nltk.download('wordnet')\n",
    "nltk.download('omw-1.4')\n",
    "nltk.download('punkt')\n",
    "from nltk.corpus import stopwords\n",
    "from nltk.stem import WordNetLemmatizer\n",
    "\n",
    "import pymorphy2\n",
    "\n",
    "from sklearn.decomposition import TruncatedSVD\n",
    "import matplotlib.patches as mpatches\n",
    "\n",
    "from sklearn.model_selection import train_test_split\n",
    "from sklearn.feature_extraction.text import TfidfVectorizer\n",
    "from sklearn.metrics import classification_report, confusion_matrix, roc_auc_score\n",
    "\n",
    "from lightgbm import LGBMClassifier\n",
    "from sklearn.linear_model import LogisticRegression\n",
    "from sklearn.ensemble import RandomForestClassifier\n",
    "\n",
    "import tika\n",
    "from tika import parser\n",
    "import re\n",
    "import os\n",
    "from sklearn.preprocessing import LabelEncoder"
   ]
  },
  {
   "cell_type": "code",
   "execution_count": 4,
   "metadata": {
    "id": "W8236OeTxm5D"
   },
   "outputs": [],
   "source": [
    "classes = pd.read_json('classes.json', orient='index')"
   ]
  },
  {
   "cell_type": "code",
   "execution_count": 5,
   "metadata": {
    "colab": {
     "base_uri": "https://localhost:8080/",
     "height": 112
    },
    "id": "FHca_xCFzC-V",
    "outputId": "e34f4a40-f26a-42b6-c14e-037fbf8be77d"
   },
   "outputs": [
    {
     "data": {
      "text/html": [
       "<div>\n",
       "<style scoped>\n",
       "    .dataframe tbody tr th:only-of-type {\n",
       "        vertical-align: middle;\n",
       "    }\n",
       "\n",
       "    .dataframe tbody tr th {\n",
       "        vertical-align: top;\n",
       "    }\n",
       "\n",
       "    .dataframe thead th {\n",
       "        text-align: right;\n",
       "    }\n",
       "</style>\n",
       "<table border=\"1\" class=\"dataframe\">\n",
       "  <thead>\n",
       "    <tr style=\"text-align: right;\">\n",
       "      <th></th>\n",
       "      <th>0</th>\n",
       "    </tr>\n",
       "  </thead>\n",
       "  <tbody>\n",
       "    <tr>\n",
       "      <th>5908cb5da047d6c9e6dfea6337fb3189.doc</th>\n",
       "      <td>Договоры для акселератора/Договоры поставки</td>\n",
       "    </tr>\n",
       "    <tr>\n",
       "      <th>14711e4fc8e56f0c75856c8837ec04cb.doc</th>\n",
       "      <td>Договоры для акселератора/Договоры поставки</td>\n",
       "    </tr>\n",
       "  </tbody>\n",
       "</table>\n",
       "</div>"
      ],
      "text/plain": [
       "                                                                                0\n",
       "5908cb5da047d6c9e6dfea6337fb3189.doc  Договоры для акселератора/Договоры поставки\n",
       "14711e4fc8e56f0c75856c8837ec04cb.doc  Договоры для акселератора/Договоры поставки"
      ]
     },
     "execution_count": 5,
     "metadata": {},
     "output_type": "execute_result"
    }
   ],
   "source": [
    "classes.head(2)"
   ]
  },
  {
   "cell_type": "code",
   "execution_count": 6,
   "metadata": {
    "id": "y3q4ynCjyoVH"
   },
   "outputs": [],
   "source": [
    "list_docs = os.listdir('docs')"
   ]
  },
  {
   "cell_type": "code",
   "execution_count": 7,
   "metadata": {
    "colab": {
     "base_uri": "https://localhost:8080/",
     "height": 49,
     "referenced_widgets": [
      "a8bc1f72afdf4cd1b574a31a751e45bf",
      "afd015497b764848bdba249347c50318",
      "9d20365c7443463c93eb10436518f9a3",
      "039ab98ea0d04cf48df0438d29fe81cf",
      "b0ea35c285a2443aaeb3efafb9392b3e",
      "dd908421c87d41a3b22a1b038691c39f",
      "7e3c13b6f9974b50952a91e0ff56ab82",
      "0248aa525df04ba3b56d4e8ee7334643",
      "a1994f2f479346a9b95417cd4f211e29",
      "33fbcacf8f29440b87f80d640c629a48",
      "50c36db808514e6188c8ac63e8124349"
     ]
    },
    "id": "18sRJgl0G9XH",
    "outputId": "5633994f-4356-4620-fb1b-58d17f2a4b8c"
   },
   "outputs": [
    {
     "data": {
      "application/vnd.jupyter.widget-view+json": {
       "model_id": "a24395e3332f4d9cb1edf5cabbc55077",
       "version_major": 2,
       "version_minor": 0
      },
      "text/plain": [
       "  0%|          | 0/120 [00:00<?, ?it/s]"
      ]
     },
     "metadata": {},
     "output_type": "display_data"
    }
   ],
   "source": [
    "tika.initVM()\n",
    "\n",
    "for doc in tqdm(list_docs):\n",
    "  parsed = parser.from_file('docs/' + doc)\n",
    "  # classes.loc[doc, 'metadata'] = parsed[\"metadata\"]\n",
    "  classes.loc[doc, 'content'] = parsed[\"content\"]"
   ]
  },
  {
   "cell_type": "code",
   "execution_count": 8,
   "metadata": {
    "colab": {
     "base_uri": "https://localhost:8080/"
    },
    "id": "noWkS-9-KKLG",
    "outputId": "5c2bed28-ace8-42cb-924b-e27af49d7003"
   },
   "outputs": [
    {
     "name": "stdout",
     "output_type": "stream",
     "text": [
      "CPU times: user 10.8 s, sys: 20.3 ms, total: 10.9 s\n",
      "Wall time: 10.9 s\n"
     ]
    }
   ],
   "source": [
    "%%time\n",
    "stop_words = set(stopwords.words('russian')) # множество стоп слов\n",
    "\n",
    "morph = pymorphy2.MorphAnalyzer() # для постановки слова в начальную форму\n",
    "\n",
    "def lemmatize_words(text):\n",
    "    '''Функция для лемматизации отдельных слов.'''\n",
    "    final_text = []\n",
    "    for i in text.lower().split():\n",
    "        if i not in stop_words:\n",
    "            parse = morph.parse(i)[0]\n",
    "            if ('Abbr' not in parse.tag):\n",
    "                final_text.append(parse.normal_form)               \n",
    "    return \" \".join(final_text)\n",
    "\n",
    "def text_preprocessing(text):\n",
    "    data = text.copy()\n",
    "\n",
    "    # удаляем пунктуацию\n",
    "    data['content_punct'] = data['content'].str.translate(str.maketrans('', '', string.punctuation))\n",
    "    # Приводим к начальной форме\n",
    "    data['content_punct_lemm'] = data['content_punct'].apply(lemmatize_words)\n",
    "    \n",
    "    return data\n",
    "\n",
    "classes_prep = text_preprocessing(classes)\n",
    "\n",
    "# test_copy = test.copy()\n",
    "# test_copy.rename(columns={'text': 'sentence'}, inplace=True)\n",
    "# test_prep = text_preprocessing(test_copy.fillna('нет текста'))"
   ]
  },
  {
   "cell_type": "code",
   "execution_count": 9,
   "metadata": {
    "id": "VDoXbW3_1aQ5"
   },
   "outputs": [],
   "source": [
    "le = LabelEncoder()\n",
    "classes_prep['labels'] = le.fit_transform(classes_prep[0])"
   ]
  },
  {
   "cell_type": "code",
   "execution_count": 10,
   "metadata": {
    "colab": {
     "base_uri": "https://localhost:8080/"
    },
    "id": "lHmwU9Z-4yNk",
    "outputId": "d52aecf9-82f0-43af-f1fc-d0efb1cc4b00"
   },
   "outputs": [
    {
     "data": {
      "text/plain": [
       "Договоры для акселератора/Договоры оказания услуг    32\n",
       "Договоры для акселератора/Договоры аренды            23\n",
       "Договоры для акселератора/Договоры купли-продажи     23\n",
       "Договоры для акселератора/Договоры поставки          21\n",
       "Договоры для акселератора/Договоры подряда           21\n",
       "Name: 0, dtype: int64"
      ]
     },
     "execution_count": 10,
     "metadata": {},
     "output_type": "execute_result"
    }
   ],
   "source": [
    "classes_prep[0].value_counts()"
   ]
  },
  {
   "cell_type": "code",
   "execution_count": null,
   "metadata": {},
   "outputs": [],
   "source": []
  },
  {
   "cell_type": "code",
   "execution_count": 11,
   "metadata": {
    "id": "J8kp2C5f2qmp"
   },
   "outputs": [],
   "source": [
    "def plot_LSA(test_data, test_labels):\n",
    "    '''\n",
    "    Функция для уменьшения размерности и визуализации векторного представления текстов по классам в проекции на плоскость\n",
    "    '''\n",
    "    lsa = TruncatedSVD(n_components=2)\n",
    "    lsa.fit(test_data)\n",
    "    lsa_scores = lsa.transform(test_data)\n",
    "    colors = ['orange','blue','blue']\n",
    "    plt.scatter(lsa_scores[:,0], lsa_scores[:,1], s=8, alpha=0.8, c=test_labels, cmap=matplotlib.colors.ListedColormap(colors))\n",
    "    red_patch = mpatches.Patch(color='orange', label='0')\n",
    "    green_patch = mpatches.Patch(color='blue', label='1')\n",
    "    plt.legend(handles=[red_patch, green_patch], prop={'size': 12})\n",
    "    plt.title('Визуализация векторного представления текстов в проекции на плоскость', fontsize=14)\n",
    "\n",
    "def plot_feature_importance(importance, names, model_name, numb_of_features=10):\n",
    "    '''\n",
    "    Для построения важности признаков\n",
    "    '''\n",
    "    # DataFrame из важности признаков модели с именами столбцов\n",
    "    feature_importance = np.array(importance)\n",
    "    feature_names = np.array(names)\n",
    "    data={'feature_names':feature_names,'feature_importance':feature_importance}\n",
    "    fi_df = pd.DataFrame(data)\n",
    "\n",
    "    # Сортируем по убыванию\n",
    "    fi_df_sort = fi_df.sort_values(by=['feature_importance'], ascending=False)\n",
    "    \n",
    "    # Строим график\n",
    "    if model_name == 'LogisticRegression':\n",
    "        fig,ax = plt.subplots(2,1, figsize=(10,16))\n",
    "        sns.barplot(x='feature_importance', y='feature_names', data=fi_df_sort[:numb_of_features], ax=ax[0])\n",
    "        sns.barplot(x='feature_importance', y='feature_names', data=fi_df_sort[-numb_of_features:],ax=ax[1])\n",
    "    else:\n",
    "        fig,ax = plt.subplots(1,1, figsize=(10,8))\n",
    "        sns.barplot(x='feature_importance', y='feature_names', data=fi_df_sort[:numb_of_features])\n",
    "        \n",
    "    plt.title(model_name + ' FEATURE IMPORTANCE')\n",
    "    plt.xlabel('FEATURE IMPORTANCE')\n",
    "    plt.ylabel('FEATURE NAMES')\n",
    "    plt.show()\n",
    "    \n",
    "\n",
    "def learning(X_train, X_test, y_train, y_test, classifier, name_of_classifier, plot_lsa=False,\n",
    "             ngram_range_user=(1,1), numb_of_features_user=10):\n",
    "    '''\n",
    "    Обучение модели. Возвращаем TfidfVectorizer для теста и обученный классификатор\n",
    "    '''\n",
    "    \n",
    "    tf=TfidfVectorizer(ngram_range=ngram_range_user)\n",
    "    X_train_tf = tf.fit_transform(X_train)\n",
    "    X_test_tf = tf.transform(X_test)\n",
    "    if plot_lsa == True:\n",
    "        fig = plt.figure(figsize=(10, 8)) \n",
    "        plot_LSA(X_train_tf, y_train)\n",
    "        plt.show()\n",
    "    \n",
    "    classifier.fit(X_train_tf, y_train)\n",
    "    classifier_pred = classifier.predict(X_test_tf)\n",
    "    classifier_pred_proba = classifier.predict_proba(X_test_tf)\n",
    "    \n",
    "    # print('{} confusion_matrix: \\n'.format(name_of_classifier), confusion_matrix(y_test, classifier_pred))\n",
    "    print('{} classification_report: \\n'.format(name_of_classifier), classification_report(y_test, classifier_pred))\n",
    "    # print('{} roc_auc: '.format(name_of_classifier), roc_auc_score(y_test, classifier_pred_proba, multi_class=\"ovr\"))\n",
    "    \n",
    "    if name_of_classifier == 'LogisticRegression':\n",
    "        plot_feature_importance(classifier.coef_[0],\n",
    "                                list(tf.vocabulary_.keys()), name_of_classifier, numb_of_features=numb_of_features_user)\n",
    "    else:\n",
    "        plot_feature_importance(classifier.feature_importances_,\n",
    "                                list(tf.vocabulary_.keys()), name_of_classifier, numb_of_features=numb_of_features_user)\n",
    "        \n",
    "    return tf, classifier"
   ]
  },
  {
   "cell_type": "code",
   "execution_count": 12,
   "metadata": {
    "id": "7sa2_tFf27V8"
   },
   "outputs": [],
   "source": [
    "# Делим на обучающую и тестовую выборку\n",
    "X_train, X_test, y_train, y_test = train_test_split(classes_prep['content_punct_lemm'],\n",
    "                                                    classes_prep['labels'],\n",
    "                                                    test_size=0.2, random_state=42,\n",
    "                                                    stratify=classes_prep['labels'])"
   ]
  },
  {
   "cell_type": "code",
   "execution_count": 13,
   "metadata": {
    "colab": {
     "base_uri": "https://localhost:8080/",
     "height": 1000
    },
    "id": "ETWUmYiq3JLU",
    "outputId": "b40ca5f2-c665-445e-e8b7-2c3fab6af48b"
   },
   "outputs": [
    {
     "data": {
      "image/png": "[encoded data removed]",
      "text/plain": [
       "<Figure size 1000x800 with 1 Axes>"
      ]
     },
     "metadata": {},
     "output_type": "display_data"
    },
    {
     "name": "stdout",
     "output_type": "stream",
     "text": [
      "LogisticRegression classification_report: \n",
      "               precision    recall  f1-score   support\n",
      "\n",
      "           0       1.00      0.80      0.89         5\n",
      "           1       1.00      1.00      1.00         5\n",
      "           2       0.86      1.00      0.92         6\n",
      "           3       1.00      1.00      1.00         4\n",
      "           4       1.00      1.00      1.00         4\n",
      "\n",
      "    accuracy                           0.96        24\n",
      "   macro avg       0.97      0.96      0.96        24\n",
      "weighted avg       0.96      0.96      0.96        24\n",
      "\n"
     ]
    },
    {
     "data": {
      "image/png": "[encoded data removed]",
      "text/plain": [
       "<Figure size 1000x1600 with 2 Axes>"
      ]
     },
     "metadata": {},
     "output_type": "display_data"
    },
    {
     "name": "stdout",
     "output_type": "stream",
     "text": [
      "CPU times: user 976 ms, sys: 53.3 ms, total: 1.03 s\n",
      "Wall time: 1.03 s\n"
     ]
    }
   ],
   "source": [
    "%%time\n",
    "LR = LogisticRegression(random_state=42)\n",
    "tf, LR_trained_classifier = learning(X_train, X_test, y_train, y_test, LR,\n",
    "                                     'LogisticRegression', ngram_range_user=(1,2), plot_lsa=True)"
   ]
  },
  {
   "cell_type": "code",
   "execution_count": 15,
   "metadata": {
    "id": "w0_ZgBRH3Uqq"
   },
   "outputs": [
    {
     "data": {
      "text/plain": [
       "['LR_trained_classifier.joblib']"
      ]
     },
     "execution_count": 15,
     "metadata": {},
     "output_type": "execute_result"
    }
   ],
   "source": [
    "import joblib\n",
    "\n",
    "joblib.dump(tf, \"tf.joblib\")\n",
    "joblib.dump(LR_trained_classifier, \"LR_trained_classifier.joblib\")"
   ]
  },
  {
   "cell_type": "code",
   "execution_count": 2,
   "metadata": {},
   "outputs": [],
   "source": [
    "classes = pd.read_json('empty.json', orient='index')"
   ]
  },
  {
   "cell_type": "code",
   "execution_count": 3,
   "metadata": {},
   "outputs": [
    {
     "data": {
      "text/html": [
       "<div>\n",
       "<style scoped>\n",
       "    .dataframe tbody tr th:only-of-type {\n",
       "        vertical-align: middle;\n",
       "    }\n",
       "\n",
       "    .dataframe tbody tr th {\n",
       "        vertical-align: top;\n",
       "    }\n",
       "\n",
       "    .dataframe thead th {\n",
       "        text-align: right;\n",
       "    }\n",
       "</style>\n",
       "<table border=\"1\" class=\"dataframe\">\n",
       "  <thead>\n",
       "    <tr style=\"text-align: right;\">\n",
       "      <th></th>\n",
       "    </tr>\n",
       "  </thead>\n",
       "  <tbody>\n",
       "  </tbody>\n",
       "</table>\n",
       "</div>"
      ],
      "text/plain": [
       "Empty DataFrame\n",
       "Columns: []\n",
       "Index: []"
      ]
     },
     "execution_count": 3,
     "metadata": {},
     "output_type": "execute_result"
    }
   ],
   "source": [
    "classes"
   ]
  },
  {
   "cell_type": "code",
   "execution_count": 4,
   "metadata": {},
   "outputs": [
    {
     "data": {
      "text/html": [
       "<div>\n",
       "<style scoped>\n",
       "    .dataframe tbody tr th:only-of-type {\n",
       "        vertical-align: middle;\n",
       "    }\n",
       "\n",
       "    .dataframe tbody tr th {\n",
       "        vertical-align: top;\n",
       "    }\n",
       "\n",
       "    .dataframe thead th {\n",
       "        text-align: right;\n",
       "    }\n",
       "</style>\n",
       "<table border=\"1\" class=\"dataframe\">\n",
       "  <thead>\n",
       "    <tr style=\"text-align: right;\">\n",
       "      <th></th>\n",
       "    </tr>\n",
       "  </thead>\n",
       "  <tbody>\n",
       "  </tbody>\n",
       "</table>\n",
       "</div>"
      ],
      "text/plain": [
       "Empty DataFrame\n",
       "Columns: []\n",
       "Index: []"
      ]
     },
     "execution_count": 4,
     "metadata": {},
     "output_type": "execute_result"
    }
   ],
   "source": [
    "classes.add(\"dsfsdf\")"
   ]
  },
  {
   "cell_type": "code",
   "execution_count": 5,
   "metadata": {},
   "outputs": [
    {
     "data": {
      "text/html": [
       "<div>\n",
       "<style scoped>\n",
       "    .dataframe tbody tr th:only-of-type {\n",
       "        vertical-align: middle;\n",
       "    }\n",
       "\n",
       "    .dataframe tbody tr th {\n",
       "        vertical-align: top;\n",
       "    }\n",
       "\n",
       "    .dataframe thead th {\n",
       "        text-align: right;\n",
       "    }\n",
       "</style>\n",
       "<table border=\"1\" class=\"dataframe\">\n",
       "  <thead>\n",
       "    <tr style=\"text-align: right;\">\n",
       "      <th></th>\n",
       "    </tr>\n",
       "  </thead>\n",
       "  <tbody>\n",
       "  </tbody>\n",
       "</table>\n",
       "</div>"
      ],
      "text/plain": [
       "Empty DataFrame\n",
       "Columns: []\n",
       "Index: []"
      ]
     },
     "execution_count": 5,
     "metadata": {},
     "output_type": "execute_result"
    }
   ],
   "source": [
    "classesclasses_prep"
   ]
  },
  {
   "cell_type": "code",
   "execution_count": 19,
   "metadata": {},
   "outputs": [],
   "source": [
    "classes = pd.read_json('classes.json', orient='index')"
   ]
  },
  {
   "cell_type": "code",
   "execution_count": 20,
   "metadata": {},
   "outputs": [
    {
     "data": {
      "text/plain": [
       "array(['Договоры для акселератора/Договоры поставки',\n",
       "       'Договоры для акселератора/Договоры оказания услуг',\n",
       "       'Договоры для акселератора/Договоры подряда',\n",
       "       'Договоры для акселератора/Договоры аренды',\n",
       "       'Договоры для акселератора/Договоры купли-продажи'], dtype=object)"
      ]
     },
     "execution_count": 20,
     "metadata": {},
     "output_type": "execute_result"
    }
   ],
   "source": [
    "classes[0].unique()"
   ]
  }
 ],
 "metadata": {
  "colab": {
   "provenance": []
  },
  "kernelspec": {
   "display_name": "Python 3",
   "language": "python",
   "name": "python3"
  },
  "language_info": {
   "codemirror_mode": {
    "name": "ipython",
    "version": 3
   },
   "file_extension": ".py",
   "mimetype": "text/x-python",
   "name": "python",
   "nbconvert_exporter": "python",
   "pygments_lexer": "ipython3",
   "version": "3.10.8"
  },
  "vscode": {
   "interpreter": {
    "hash": "e7370f93d1d0cde622a1f8e1c04877d8463912d04d973331ad4851f04de6915a"
   }
  },
  "widgets": {
   "application/vnd.jupyter.widget-state+json": {
    "0248aa525df04ba3b56d4e8ee7334643": {
     "model_module": "@jupyter-widgets/base",
     "model_module_version": "1.2.0",
     "model_name": "LayoutModel",
     "state": {
      "_model_module": "@jupyter-widgets/base",
      "_model_module_version": "1.2.0",
      "_model_name": "LayoutModel",
      "_view_count": null,
      "_view_module": "@jupyter-widgets/base",
      "_view_module_version": "1.2.0",
      "_view_name": "LayoutView",
      "align_content": null,
      "align_items": null,
      "align_self": null,
      "border": null,
      "bottom": null,
      "display": null,
      "flex": null,
      "flex_flow": null,
      "grid_area": null,
      "grid_auto_columns": null,
      "grid_auto_flow": null,
      "grid_auto_rows": null,
      "grid_column": null,
      "grid_gap": null,
      "grid_row": null,
      "grid_template_areas": null,
      "grid_template_columns": null,
      "grid_template_rows": null,
      "height": null,
      "justify_content": null,
      "justify_items": null,
      "left": null,
      "margin": null,
      "max_height": null,
      "max_width": null,
      "min_height": null,
      "min_width": null,
      "object_fit": null,
      "object_position": null,
      "order": null,
      "overflow": null,
      "overflow_x": null,
      "overflow_y": null,
      "padding": null,
      "right": null,
      "top": null,
      "visibility": null,
      "width": null
     }
    },
    "039ab98ea0d04cf48df0438d29fe81cf": {
     "model_module": "@jupyter-widgets/controls",
     "model_module_version": "1.5.0",
     "model_name": "HTMLModel",
     "state": {
      "_dom_classes": [],
      "_model_module": "@jupyter-widgets/controls",
      "_model_module_version": "1.5.0",
      "_model_name": "HTMLModel",
      "_view_count": null,
      "_view_module": "@jupyter-widgets/controls",
      "_view_module_version": "1.5.0",
      "_view_name": "HTMLView",
      "description": "",
      "description_tooltip": null,
      "layout": "IPY_MODEL_33fbcacf8f29440b87f80d640c629a48",
      "placeholder": "​",
      "style": "IPY_MODEL_50c36db808514e6188c8ac63e8124349",
      "value": " 120/120 [00:10&lt;00:00, 14.46it/s]"
     }
    },
    "33fbcacf8f29440b87f80d640c629a48": {
     "model_module": "@jupyter-widgets/base",
     "model_module_version": "1.2.0",
     "model_name": "LayoutModel",
     "state": {
      "_model_module": "@jupyter-widgets/base",
      "_model_module_version": "1.2.0",
      "_model_name": "LayoutModel",
      "_view_count": null,
      "_view_module": "@jupyter-widgets/base",
      "_view_module_version": "1.2.0",
      "_view_name": "LayoutView",
      "align_content": null,
      "align_items": null,
      "align_self": null,
      "border": null,
      "bottom": null,
      "display": null,
      "flex": null,
      "flex_flow": null,
      "grid_area": null,
      "grid_auto_columns": null,
      "grid_auto_flow": null,
      "grid_auto_rows": null,
      "grid_column": null,
      "grid_gap": null,
      "grid_row": null,
      "grid_template_areas": null,
      "grid_template_columns": null,
      "grid_template_rows": null,
      "height": null,
      "justify_content": null,
      "justify_items": null,
      "left": null,
      "margin": null,
      "max_height": null,
      "max_width": null,
      "min_height": null,
      "min_width": null,
      "object_fit": null,
      "object_position": null,
      "order": null,
      "overflow": null,
      "overflow_x": null,
      "overflow_y": null,
      "padding": null,
      "right": null,
      "top": null,
      "visibility": null,
      "width": null
     }
    },
    "50c36db808514e6188c8ac63e8124349": {
     "model_module": "@jupyter-widgets/controls",
     "model_module_version": "1.5.0",
     "model_name": "DescriptionStyleModel",
     "state": {
      "_model_module": "@jupyter-widgets/controls",
      "_model_module_version": "1.5.0",
      "_model_name": "DescriptionStyleModel",
      "_view_count": null,
      "_view_module": "@jupyter-widgets/base",
      "_view_module_version": "1.2.0",
      "_view_name": "StyleView",
      "description_width": ""
     }
    },
    "7e3c13b6f9974b50952a91e0ff56ab82": {
     "model_module": "@jupyter-widgets/controls",
     "model_module_version": "1.5.0",
     "model_name": "DescriptionStyleModel",
     "state": {
      "_model_module": "@jupyter-widgets/controls",
      "_model_module_version": "1.5.0",
      "_model_name": "DescriptionStyleModel",
      "_view_count": null,
      "_view_module": "@jupyter-widgets/base",
      "_view_module_version": "1.2.0",
      "_view_name": "StyleView",
      "description_width": ""
     }
    },
    "9d20365c7443463c93eb10436518f9a3": {
     "model_module": "@jupyter-widgets/controls",
     "model_module_version": "1.5.0",
     "model_name": "FloatProgressModel",
     "state": {
      "_dom_classes": [],
      "_model_module": "@jupyter-widgets/controls",
      "_model_module_version": "1.5.0",
      "_model_name": "FloatProgressModel",
      "_view_count": null,
      "_view_module": "@jupyter-widgets/controls",
      "_view_module_version": "1.5.0",
      "_view_name": "ProgressView",
      "bar_style": "success",
      "description": "",
      "description_tooltip": null,
      "layout": "IPY_MODEL_0248aa525df04ba3b56d4e8ee7334643",
      "max": 120,
      "min": 0,
      "orientation": "horizontal",
      "style": "IPY_MODEL_a1994f2f479346a9b95417cd4f211e29",
      "value": 120
     }
    },
    "a1994f2f479346a9b95417cd4f211e29": {
     "model_module": "@jupyter-widgets/controls",
     "model_module_version": "1.5.0",
     "model_name": "ProgressStyleModel",
     "state": {
      "_model_module": "@jupyter-widgets/controls",
      "_model_module_version": "1.5.0",
      "_model_name": "ProgressStyleModel",
      "_view_count": null,
      "_view_module": "@jupyter-widgets/base",
      "_view_module_version": "1.2.0",
      "_view_name": "StyleView",
      "bar_color": null,
      "description_width": ""
     }
    },
    "a8bc1f72afdf4cd1b574a31a751e45bf": {
     "model_module": "@jupyter-widgets/controls",
     "model_module_version": "1.5.0",
     "model_name": "HBoxModel",
     "state": {
      "_dom_classes": [],
      "_model_module": "@jupyter-widgets/controls",
      "_model_module_version": "1.5.0",
      "_model_name": "HBoxModel",
      "_view_count": null,
      "_view_module": "@jupyter-widgets/controls",
      "_view_module_version": "1.5.0",
      "_view_name": "HBoxView",
      "box_style": "",
      "children": [
       "IPY_MODEL_afd015497b764848bdba249347c50318",
       "IPY_MODEL_9d20365c7443463c93eb10436518f9a3",
       "IPY_MODEL_039ab98ea0d04cf48df0438d29fe81cf"
      ],
      "layout": "IPY_MODEL_b0ea35c285a2443aaeb3efafb9392b3e"
     }
    },
    "afd015497b764848bdba249347c50318": {
     "model_module": "@jupyter-widgets/controls",
     "model_module_version": "1.5.0",
     "model_name": "HTMLModel",
     "state": {
      "_dom_classes": [],
      "_model_module": "@jupyter-widgets/controls",
      "_model_module_version": "1.5.0",
      "_model_name": "HTMLModel",
      "_view_count": null,
      "_view_module": "@jupyter-widgets/controls",
      "_view_module_version": "1.5.0",
      "_view_name": "HTMLView",
      "description": "",
      "description_tooltip": null,
      "layout": "IPY_MODEL_dd908421c87d41a3b22a1b038691c39f",
      "placeholder": "​",
      "style": "IPY_MODEL_7e3c13b6f9974b50952a91e0ff56ab82",
      "value": "100%"
     }
    },
    "b0ea35c285a2443aaeb3efafb9392b3e": {
     "model_module": "@jupyter-widgets/base",
     "model_module_version": "1.2.0",
     "model_name": "LayoutModel",
     "state": {
      "_model_module": "@jupyter-widgets/base",
      "_model_module_version": "1.2.0",
      "_model_name": "LayoutModel",
      "_view_count": null,
      "_view_module": "@jupyter-widgets/base",
      "_view_module_version": "1.2.0",
      "_view_name": "LayoutView",
      "align_content": null,
      "align_items": null,
      "align_self": null,
      "border": null,
      "bottom": null,
      "display": null,
      "flex": null,
      "flex_flow": null,
      "grid_area": null,
      "grid_auto_columns": null,
      "grid_auto_flow": null,
      "grid_auto_rows": null,
      "grid_column": null,
      "grid_gap": null,
      "grid_row": null,
      "grid_template_areas": null,
      "grid_template_columns": null,
      "grid_template_rows": null,
      "height": null,
      "justify_content": null,
      "justify_items": null,
      "left": null,
      "margin": null,
      "max_height": null,
      "max_width": null,
      "min_height": null,
      "min_width": null,
      "object_fit": null,
      "object_position": null,
      "order": null,
      "overflow": null,
      "overflow_x": null,
      "overflow_y": null,
      "padding": null,
      "right": null,
      "top": null,
      "visibility": null,
      "width": null
     }
    },
    "dd908421c87d41a3b22a1b038691c39f": {
     "model_module": "@jupyter-widgets/base",
     "model_module_version": "1.2.0",
     "model_name": "LayoutModel",
     "state": {
      "_model_module": "@jupyter-widgets/base",
      "_model_module_version": "1.2.0",
      "_model_name": "LayoutModel",
      "_view_count": null,
      "_view_module": "@jupyter-widgets/base",
      "_view_module_version": "1.2.0",
      "_view_name": "LayoutView",
      "align_content": null,
      "align_items": null,
      "align_self": null,
      "border": null,
      "bottom": null,
      "display": null,
      "flex": null,
      "flex_flow": null,
      "grid_area": null,
      "grid_auto_columns": null,
      "grid_auto_flow": null,
      "grid_auto_rows": null,
      "grid_column": null,
      "grid_gap": null,
      "grid_row": null,
      "grid_template_areas": null,
      "grid_template_columns": null,
      "grid_template_rows": null,
      "height": null,
      "justify_content": null,
      "justify_items": null,
      "left": null,
      "margin": null,
      "max_height": null,
      "max_width": null,
      "min_height": null,
      "min_width": null,
      "object_fit": null,
      "object_position": null,
      "order": null,
      "overflow": null,
      "overflow_x": null,
      "overflow_y": null,
      "padding": null,
      "right": null,
      "top": null,
      "visibility": null,
      "width": null
     }
    }
   }
  }
 },
 "nbformat": 4,
 "nbformat_minor": 1
}
